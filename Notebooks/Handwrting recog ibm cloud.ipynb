{
 "cells": [
  {
   "cell_type": "code",
   "execution_count": 29,
   "metadata": {
    "id": "264e0860-e03d-4058-9825-460a347937ff"
   },
   "outputs": [
    {
     "data": {
      "text/html": [
       "<div>\n",
       "<style scoped>\n",
       "    .dataframe tbody tr th:only-of-type {\n",
       "        vertical-align: middle;\n",
       "    }\n",
       "\n",
       "    .dataframe tbody tr th {\n",
       "        vertical-align: top;\n",
       "    }\n",
       "\n",
       "    .dataframe thead th {\n",
       "        text-align: right;\n",
       "    }\n",
       "</style>\n",
       "<table border=\"1\" class=\"dataframe\">\n",
       "  <thead>\n",
       "    <tr style=\"text-align: right;\">\n",
       "      <th></th>\n",
       "      <th>label</th>\n",
       "      <th>pixel_0</th>\n",
       "      <th>pixel_1</th>\n",
       "      <th>pixel_2</th>\n",
       "      <th>pixel_3</th>\n",
       "      <th>pixel_4</th>\n",
       "      <th>pixel_5</th>\n",
       "      <th>pixel_6</th>\n",
       "      <th>pixel_7</th>\n",
       "      <th>pixel_8</th>\n",
       "      <th>...</th>\n",
       "      <th>pixel_774</th>\n",
       "      <th>pixel_775</th>\n",
       "      <th>pixel_776</th>\n",
       "      <th>pixel_777</th>\n",
       "      <th>pixel_778</th>\n",
       "      <th>pixel_779</th>\n",
       "      <th>pixel_780</th>\n",
       "      <th>pixel_781</th>\n",
       "      <th>pixel_782</th>\n",
       "      <th>pixel_783</th>\n",
       "    </tr>\n",
       "  </thead>\n",
       "  <tbody>\n",
       "    <tr>\n",
       "      <th>0</th>\n",
       "      <td>A</td>\n",
       "      <td>0</td>\n",
       "      <td>0</td>\n",
       "      <td>0</td>\n",
       "      <td>0</td>\n",
       "      <td>0</td>\n",
       "      <td>0</td>\n",
       "      <td>0</td>\n",
       "      <td>0</td>\n",
       "      <td>0</td>\n",
       "      <td>...</td>\n",
       "      <td>0</td>\n",
       "      <td>0</td>\n",
       "      <td>0</td>\n",
       "      <td>0</td>\n",
       "      <td>0</td>\n",
       "      <td>0</td>\n",
       "      <td>0</td>\n",
       "      <td>0</td>\n",
       "      <td>0</td>\n",
       "      <td>0</td>\n",
       "    </tr>\n",
       "    <tr>\n",
       "      <th>1</th>\n",
       "      <td>A</td>\n",
       "      <td>0</td>\n",
       "      <td>0</td>\n",
       "      <td>0</td>\n",
       "      <td>0</td>\n",
       "      <td>0</td>\n",
       "      <td>0</td>\n",
       "      <td>0</td>\n",
       "      <td>0</td>\n",
       "      <td>0</td>\n",
       "      <td>...</td>\n",
       "      <td>0</td>\n",
       "      <td>0</td>\n",
       "      <td>0</td>\n",
       "      <td>0</td>\n",
       "      <td>0</td>\n",
       "      <td>0</td>\n",
       "      <td>0</td>\n",
       "      <td>0</td>\n",
       "      <td>0</td>\n",
       "      <td>0</td>\n",
       "    </tr>\n",
       "    <tr>\n",
       "      <th>2</th>\n",
       "      <td>A</td>\n",
       "      <td>0</td>\n",
       "      <td>0</td>\n",
       "      <td>0</td>\n",
       "      <td>0</td>\n",
       "      <td>0</td>\n",
       "      <td>0</td>\n",
       "      <td>0</td>\n",
       "      <td>0</td>\n",
       "      <td>0</td>\n",
       "      <td>...</td>\n",
       "      <td>0</td>\n",
       "      <td>0</td>\n",
       "      <td>0</td>\n",
       "      <td>0</td>\n",
       "      <td>0</td>\n",
       "      <td>0</td>\n",
       "      <td>0</td>\n",
       "      <td>0</td>\n",
       "      <td>0</td>\n",
       "      <td>0</td>\n",
       "    </tr>\n",
       "    <tr>\n",
       "      <th>3</th>\n",
       "      <td>A</td>\n",
       "      <td>0</td>\n",
       "      <td>0</td>\n",
       "      <td>0</td>\n",
       "      <td>0</td>\n",
       "      <td>0</td>\n",
       "      <td>0</td>\n",
       "      <td>0</td>\n",
       "      <td>0</td>\n",
       "      <td>0</td>\n",
       "      <td>...</td>\n",
       "      <td>0</td>\n",
       "      <td>0</td>\n",
       "      <td>0</td>\n",
       "      <td>0</td>\n",
       "      <td>0</td>\n",
       "      <td>0</td>\n",
       "      <td>0</td>\n",
       "      <td>0</td>\n",
       "      <td>0</td>\n",
       "      <td>0</td>\n",
       "    </tr>\n",
       "    <tr>\n",
       "      <th>4</th>\n",
       "      <td>A</td>\n",
       "      <td>0</td>\n",
       "      <td>0</td>\n",
       "      <td>0</td>\n",
       "      <td>0</td>\n",
       "      <td>0</td>\n",
       "      <td>0</td>\n",
       "      <td>0</td>\n",
       "      <td>0</td>\n",
       "      <td>0</td>\n",
       "      <td>...</td>\n",
       "      <td>0</td>\n",
       "      <td>0</td>\n",
       "      <td>0</td>\n",
       "      <td>0</td>\n",
       "      <td>0</td>\n",
       "      <td>0</td>\n",
       "      <td>0</td>\n",
       "      <td>0</td>\n",
       "      <td>0</td>\n",
       "      <td>0</td>\n",
       "    </tr>\n",
       "    <tr>\n",
       "      <th>5</th>\n",
       "      <td>A</td>\n",
       "      <td>0</td>\n",
       "      <td>0</td>\n",
       "      <td>0</td>\n",
       "      <td>0</td>\n",
       "      <td>0</td>\n",
       "      <td>0</td>\n",
       "      <td>0</td>\n",
       "      <td>0</td>\n",
       "      <td>0</td>\n",
       "      <td>...</td>\n",
       "      <td>93</td>\n",
       "      <td>187</td>\n",
       "      <td>89</td>\n",
       "      <td>0</td>\n",
       "      <td>0</td>\n",
       "      <td>0</td>\n",
       "      <td>0</td>\n",
       "      <td>0</td>\n",
       "      <td>0</td>\n",
       "      <td>0</td>\n",
       "    </tr>\n",
       "    <tr>\n",
       "      <th>6</th>\n",
       "      <td>A</td>\n",
       "      <td>0</td>\n",
       "      <td>0</td>\n",
       "      <td>0</td>\n",
       "      <td>0</td>\n",
       "      <td>0</td>\n",
       "      <td>0</td>\n",
       "      <td>0</td>\n",
       "      <td>0</td>\n",
       "      <td>0</td>\n",
       "      <td>...</td>\n",
       "      <td>0</td>\n",
       "      <td>0</td>\n",
       "      <td>0</td>\n",
       "      <td>0</td>\n",
       "      <td>0</td>\n",
       "      <td>0</td>\n",
       "      <td>0</td>\n",
       "      <td>0</td>\n",
       "      <td>0</td>\n",
       "      <td>0</td>\n",
       "    </tr>\n",
       "    <tr>\n",
       "      <th>7</th>\n",
       "      <td>A</td>\n",
       "      <td>0</td>\n",
       "      <td>0</td>\n",
       "      <td>0</td>\n",
       "      <td>0</td>\n",
       "      <td>0</td>\n",
       "      <td>0</td>\n",
       "      <td>0</td>\n",
       "      <td>0</td>\n",
       "      <td>0</td>\n",
       "      <td>...</td>\n",
       "      <td>0</td>\n",
       "      <td>0</td>\n",
       "      <td>0</td>\n",
       "      <td>0</td>\n",
       "      <td>0</td>\n",
       "      <td>0</td>\n",
       "      <td>0</td>\n",
       "      <td>0</td>\n",
       "      <td>0</td>\n",
       "      <td>0</td>\n",
       "    </tr>\n",
       "    <tr>\n",
       "      <th>8</th>\n",
       "      <td>A</td>\n",
       "      <td>0</td>\n",
       "      <td>0</td>\n",
       "      <td>0</td>\n",
       "      <td>0</td>\n",
       "      <td>0</td>\n",
       "      <td>0</td>\n",
       "      <td>0</td>\n",
       "      <td>0</td>\n",
       "      <td>0</td>\n",
       "      <td>...</td>\n",
       "      <td>0</td>\n",
       "      <td>0</td>\n",
       "      <td>0</td>\n",
       "      <td>0</td>\n",
       "      <td>0</td>\n",
       "      <td>0</td>\n",
       "      <td>0</td>\n",
       "      <td>0</td>\n",
       "      <td>0</td>\n",
       "      <td>0</td>\n",
       "    </tr>\n",
       "    <tr>\n",
       "      <th>9</th>\n",
       "      <td>A</td>\n",
       "      <td>0</td>\n",
       "      <td>0</td>\n",
       "      <td>0</td>\n",
       "      <td>0</td>\n",
       "      <td>0</td>\n",
       "      <td>0</td>\n",
       "      <td>0</td>\n",
       "      <td>0</td>\n",
       "      <td>0</td>\n",
       "      <td>...</td>\n",
       "      <td>0</td>\n",
       "      <td>0</td>\n",
       "      <td>0</td>\n",
       "      <td>0</td>\n",
       "      <td>0</td>\n",
       "      <td>0</td>\n",
       "      <td>0</td>\n",
       "      <td>0</td>\n",
       "      <td>0</td>\n",
       "      <td>0</td>\n",
       "    </tr>\n",
       "  </tbody>\n",
       "</table>\n",
       "<p>10 rows × 785 columns</p>\n",
       "</div>"
      ],
      "text/plain": [
       "  label  pixel_0  pixel_1  pixel_2  pixel_3  pixel_4  pixel_5  pixel_6  \\\n",
       "0     A        0        0        0        0        0        0        0   \n",
       "1     A        0        0        0        0        0        0        0   \n",
       "2     A        0        0        0        0        0        0        0   \n",
       "3     A        0        0        0        0        0        0        0   \n",
       "4     A        0        0        0        0        0        0        0   \n",
       "5     A        0        0        0        0        0        0        0   \n",
       "6     A        0        0        0        0        0        0        0   \n",
       "7     A        0        0        0        0        0        0        0   \n",
       "8     A        0        0        0        0        0        0        0   \n",
       "9     A        0        0        0        0        0        0        0   \n",
       "\n",
       "   pixel_7  pixel_8  ...  pixel_774  pixel_775  pixel_776  pixel_777  \\\n",
       "0        0        0  ...          0          0          0          0   \n",
       "1        0        0  ...          0          0          0          0   \n",
       "2        0        0  ...          0          0          0          0   \n",
       "3        0        0  ...          0          0          0          0   \n",
       "4        0        0  ...          0          0          0          0   \n",
       "5        0        0  ...         93        187         89          0   \n",
       "6        0        0  ...          0          0          0          0   \n",
       "7        0        0  ...          0          0          0          0   \n",
       "8        0        0  ...          0          0          0          0   \n",
       "9        0        0  ...          0          0          0          0   \n",
       "\n",
       "   pixel_778  pixel_779  pixel_780  pixel_781  pixel_782  pixel_783  \n",
       "0          0          0          0          0          0          0  \n",
       "1          0          0          0          0          0          0  \n",
       "2          0          0          0          0          0          0  \n",
       "3          0          0          0          0          0          0  \n",
       "4          0          0          0          0          0          0  \n",
       "5          0          0          0          0          0          0  \n",
       "6          0          0          0          0          0          0  \n",
       "7          0          0          0          0          0          0  \n",
       "8          0          0          0          0          0          0  \n",
       "9          0          0          0          0          0          0  \n",
       "\n",
       "[10 rows x 785 columns]"
      ]
     },
     "execution_count": 29,
     "metadata": {},
     "output_type": "execute_result"
    }
   ],
   "source": [
    "\n",
    "import os, types\n",
    "import pandas as pd\n",
    "from botocore.client import Config\n",
    "import ibm_boto3\n",
    "\n",
    "def __iter__(self): return 0\n",
    "\n",
    "cos_client = ibm_boto3.client(service_name='s3',\n",
    "    ibm_api_key_id='BvADbqprTah3PYEKGcTHyWxmPkuuaqzBbBVqJbVRAatV',\n",
    "    ibm_auth_endpoint=\"https://iam.cloud.ibm.com/identity/token\",\n",
    "    config=Config(signature_version='oauth'),\n",
    "    endpoint_url='https://s3.direct.us-south.cloud-object-storage.appdomain.cloud')\n",
    "\n",
    "bucket = 'hacka-donotdelete-pr-3xr1ws6e2mzpbq'\n",
    "object_key = 'dataset_processed-1.csv'\n",
    "\n",
    "body = cos_client.get_object(Bucket=bucket,Key=object_key)['Body']\n",
    "\n",
    "if not hasattr(body, \"__iter__\"): body.__iter__ = types.MethodType( __iter__, body )\n",
    "\n",
    "dataset = pd.read_csv(body)\n",
    "dataset.head(10)\n"
   ]
  },
  {
   "cell_type": "code",
   "execution_count": 30,
   "metadata": {
    "id": "e98b55e2-651c-4236-9de1-7f597d580ca3"
   },
   "outputs": [
    {
     "name": "stdout",
     "output_type": "stream",
     "text": [
      "Model: \"sequential_1\"\n",
      "_________________________________________________________________\n",
      " Layer (type)                Output Shape              Param #   \n",
      "=================================================================\n",
      " conv2d_3 (Conv2D)           (None, 26, 26, 32)        320       \n",
      "                                                                 \n",
      " max_pooling2d_2 (MaxPoolin  (None, 13, 13, 32)        0         \n",
      " g2D)                                                            \n",
      "                                                                 \n",
      " conv2d_4 (Conv2D)           (None, 11, 11, 64)        18496     \n",
      "                                                                 \n",
      " max_pooling2d_3 (MaxPoolin  (None, 5, 5, 64)          0         \n",
      " g2D)                                                            \n",
      "                                                                 \n",
      " conv2d_5 (Conv2D)           (None, 3, 3, 64)          36928     \n",
      "                                                                 \n",
      " flatten_1 (Flatten)         (None, 576)               0         \n",
      "                                                                 \n",
      " dense_2 (Dense)             (None, 128)               73856     \n",
      "                                                                 \n",
      " dropout_1 (Dropout)         (None, 128)               0         \n",
      "                                                                 \n",
      " dense_3 (Dense)             (None, 26)                3354      \n",
      "                                                                 \n",
      "=================================================================\n",
      "Total params: 132954 (519.35 KB)\n",
      "Trainable params: 132954 (519.35 KB)\n",
      "Non-trainable params: 0 (0.00 Byte)\n",
      "_________________________________________________________________\n"
     ]
    }
   ],
   "source": [
    "from tensorflow.keras import layers, models\n",
    "\n",
    "def create_model(input_shape, num_classes):\n",
    "    model = models.Sequential()\n",
    "\n",
    "    model.add(layers.Conv2D(32, (3, 3), activation='relu', input_shape=input_shape))\n",
    "    model.add(layers.MaxPooling2D((2, 2)))\n",
    "\n",
    "    model.add(layers.Conv2D(64, (3, 3), activation='relu'))\n",
    "    model.add(layers.MaxPooling2D((2, 2)))\n",
    "\n",
    "    model.add(layers.Conv2D(64, (3, 3), activation='relu'))\n",
    "\n",
    "    model.add(layers.Flatten())\n",
    "    model.add(layers.Dense(128, activation='relu'))\n",
    "    model.add(layers.Dropout(0.5))\n",
    "    model.add(layers.Dense(num_classes, activation='softmax'))\n",
    "    \n",
    "    return model\n",
    "\n",
    "input_shape = (28, 28, 1)\n",
    "num_classes = 26           \n",
    "\n",
    "model = create_model(input_shape, num_classes)\n",
    "\n",
    "model.compile(optimizer='adam',\n",
    "              loss='sparse_categorical_crossentropy',\n",
    "              metrics=['accuracy'])\n",
    "\n",
    "model.summary()"
   ]
  },
  {
   "cell_type": "code",
   "execution_count": 31,
   "metadata": {
    "id": "124db723-e2fa-4eeb-ab1a-1960ccb17d32"
   },
   "outputs": [],
   "source": [
    "labels = dataset['label']\n",
    "pixels = dataset.drop('label', axis=1)"
   ]
  },
  {
   "cell_type": "code",
   "execution_count": 32,
   "metadata": {
    "id": "6e41641b-66bd-4c40-b2a0-b00d68c0d45a"
   },
   "outputs": [
    {
     "data": {
      "text/plain": [
       "(17376, 784)"
      ]
     },
     "execution_count": 32,
     "metadata": {},
     "output_type": "execute_result"
    }
   ],
   "source": [
    "pixels.shape"
   ]
  },
  {
   "cell_type": "code",
   "execution_count": 33,
   "metadata": {
    "id": "9fa9ab7e-e534-40af-b212-e0b007e0c51c"
   },
   "outputs": [],
   "source": [
    "X = pixels.values.reshape(-1, 28, 28, 1)  # Reshape to (num_samples, 28, 28, 1)\n",
    "X = X / 255.0 "
   ]
  },
  {
   "cell_type": "code",
   "execution_count": 34,
   "metadata": {
    "id": "d1bfc58d-9aae-41ac-98cc-cac211a4c33e"
   },
   "outputs": [
    {
     "data": {
      "text/plain": [
       "array([ 0,  0,  0, ..., 25, 25, 25])"
      ]
     },
     "execution_count": 34,
     "metadata": {},
     "output_type": "execute_result"
    }
   ],
   "source": [
    "from sklearn.preprocessing import LabelEncoder\n",
    "\n",
    "label_encoder = LabelEncoder()\n",
    "\n",
    "y_encoded = label_encoder.fit_transform(labels)\n",
    "y_encoded"
   ]
  },
  {
   "cell_type": "code",
   "execution_count": 35,
   "metadata": {
    "id": "a609b848-afd9-4133-8963-e9c5b449b4eb"
   },
   "outputs": [],
   "source": [
    "y = y_encoded"
   ]
  },
  {
   "cell_type": "code",
   "execution_count": 36,
   "metadata": {
    "id": "b8a81b00-bded-41e0-bd0d-4e1b3b839c8d"
   },
   "outputs": [],
   "source": [
    "from sklearn.model_selection import train_test_split\n",
    "\n",
    "X_train, X_test, y_train, y_test = train_test_split(X, y, test_size=0.2, random_state=42)"
   ]
  },
  {
   "cell_type": "code",
   "execution_count": 37,
   "metadata": {
    "id": "ce39a842-ff60-4ba7-b9cc-9c1c00e5b199"
   },
   "outputs": [
    {
     "name": "stdout",
     "output_type": "stream",
     "text": [
      "Epoch 1/40\n",
      "435/435 [==============================] - 8s 17ms/step - loss: 2.6053 - accuracy: 0.2192 - val_loss: 2.1233 - val_accuracy: 0.3527\n",
      "Epoch 2/40\n",
      "435/435 [==============================] - 7s 16ms/step - loss: 2.0123 - accuracy: 0.3750 - val_loss: 1.5864 - val_accuracy: 0.5049\n",
      "Epoch 3/40\n",
      "435/435 [==============================] - 7s 16ms/step - loss: 1.6233 - accuracy: 0.4924 - val_loss: 1.2776 - val_accuracy: 0.6099\n",
      "Epoch 4/40\n",
      "435/435 [==============================] - 7s 17ms/step - loss: 1.3645 - accuracy: 0.5719 - val_loss: 1.2045 - val_accuracy: 0.6162\n",
      "Epoch 5/40\n",
      "435/435 [==============================] - 7s 17ms/step - loss: 1.1937 - accuracy: 0.6207 - val_loss: 0.9452 - val_accuracy: 0.7166\n",
      "Epoch 6/40\n",
      "435/435 [==============================] - 7s 17ms/step - loss: 1.0459 - accuracy: 0.6654 - val_loss: 0.9094 - val_accuracy: 0.7278\n",
      "Epoch 7/40\n",
      "435/435 [==============================] - 7s 16ms/step - loss: 0.9565 - accuracy: 0.6891 - val_loss: 0.8216 - val_accuracy: 0.7503\n",
      "Epoch 8/40\n",
      "435/435 [==============================] - 7s 16ms/step - loss: 0.8795 - accuracy: 0.7173 - val_loss: 0.8295 - val_accuracy: 0.7454\n",
      "Epoch 9/40\n",
      "435/435 [==============================] - 7s 17ms/step - loss: 0.8050 - accuracy: 0.7353 - val_loss: 0.7624 - val_accuracy: 0.7621\n",
      "Epoch 10/40\n",
      "435/435 [==============================] - 8s 19ms/step - loss: 0.7650 - accuracy: 0.7443 - val_loss: 0.7418 - val_accuracy: 0.7704\n",
      "Epoch 11/40\n",
      "435/435 [==============================] - 8s 18ms/step - loss: 0.7130 - accuracy: 0.7652 - val_loss: 0.7205 - val_accuracy: 0.7750\n",
      "Epoch 12/40\n",
      "435/435 [==============================] - 7s 17ms/step - loss: 0.6772 - accuracy: 0.7757 - val_loss: 0.7129 - val_accuracy: 0.7773\n",
      "Epoch 13/40\n",
      "435/435 [==============================] - 9s 20ms/step - loss: 0.6396 - accuracy: 0.7837 - val_loss: 0.7205 - val_accuracy: 0.7805\n",
      "Epoch 14/40\n",
      "435/435 [==============================] - 9s 20ms/step - loss: 0.6097 - accuracy: 0.7955 - val_loss: 0.7171 - val_accuracy: 0.7776\n",
      "Epoch 15/40\n",
      "435/435 [==============================] - 7s 16ms/step - loss: 0.5760 - accuracy: 0.8029 - val_loss: 0.6939 - val_accuracy: 0.7883\n",
      "Epoch 16/40\n",
      "435/435 [==============================] - 7s 16ms/step - loss: 0.5554 - accuracy: 0.8110 - val_loss: 0.6938 - val_accuracy: 0.7934\n",
      "Epoch 17/40\n",
      "435/435 [==============================] - 7s 17ms/step - loss: 0.5246 - accuracy: 0.8212 - val_loss: 0.6970 - val_accuracy: 0.7883\n",
      "Epoch 18/40\n",
      "435/435 [==============================] - 7s 16ms/step - loss: 0.5044 - accuracy: 0.8263 - val_loss: 0.6857 - val_accuracy: 0.7960\n",
      "Epoch 19/40\n",
      "435/435 [==============================] - 7s 17ms/step - loss: 0.4770 - accuracy: 0.8347 - val_loss: 0.6800 - val_accuracy: 0.7969\n",
      "Epoch 20/40\n",
      "435/435 [==============================] - 7s 16ms/step - loss: 0.4536 - accuracy: 0.8427 - val_loss: 0.7503 - val_accuracy: 0.7854\n",
      "Epoch 21/40\n",
      "435/435 [==============================] - 7s 17ms/step - loss: 0.4463 - accuracy: 0.8442 - val_loss: 0.7335 - val_accuracy: 0.7883\n",
      "Epoch 22/40\n",
      "435/435 [==============================] - 7s 17ms/step - loss: 0.4355 - accuracy: 0.8487 - val_loss: 0.6799 - val_accuracy: 0.8024\n",
      "Epoch 23/40\n",
      "435/435 [==============================] - 7s 17ms/step - loss: 0.4129 - accuracy: 0.8556 - val_loss: 0.7297 - val_accuracy: 0.7926\n",
      "Epoch 24/40\n",
      "435/435 [==============================] - 7s 17ms/step - loss: 0.3998 - accuracy: 0.8568 - val_loss: 0.7153 - val_accuracy: 0.8035\n",
      "Epoch 25/40\n",
      "435/435 [==============================] - 7s 16ms/step - loss: 0.3861 - accuracy: 0.8625 - val_loss: 0.7218 - val_accuracy: 0.8006\n",
      "Epoch 26/40\n",
      "435/435 [==============================] - 7s 16ms/step - loss: 0.3712 - accuracy: 0.8658 - val_loss: 0.7578 - val_accuracy: 0.7955\n",
      "Epoch 27/40\n",
      "435/435 [==============================] - 7s 16ms/step - loss: 0.3576 - accuracy: 0.8678 - val_loss: 0.7516 - val_accuracy: 0.8064\n",
      "Epoch 28/40\n",
      "435/435 [==============================] - 7s 16ms/step - loss: 0.3446 - accuracy: 0.8749 - val_loss: 0.7299 - val_accuracy: 0.8038\n",
      "Epoch 29/40\n",
      "435/435 [==============================] - 7s 17ms/step - loss: 0.3344 - accuracy: 0.8794 - val_loss: 0.7456 - val_accuracy: 0.8055\n",
      "Epoch 30/40\n",
      "435/435 [==============================] - 7s 16ms/step - loss: 0.3336 - accuracy: 0.8830 - val_loss: 0.7674 - val_accuracy: 0.8021\n",
      "Epoch 31/40\n",
      "435/435 [==============================] - 7s 17ms/step - loss: 0.3253 - accuracy: 0.8846 - val_loss: 0.7701 - val_accuracy: 0.8049\n",
      "Epoch 32/40\n",
      "435/435 [==============================] - 7s 16ms/step - loss: 0.3163 - accuracy: 0.8868 - val_loss: 0.7864 - val_accuracy: 0.7986\n",
      "Epoch 33/40\n",
      "435/435 [==============================] - 7s 16ms/step - loss: 0.3122 - accuracy: 0.8838 - val_loss: 0.8019 - val_accuracy: 0.8064\n",
      "Epoch 34/40\n",
      "435/435 [==============================] - 7s 16ms/step - loss: 0.2977 - accuracy: 0.8927 - val_loss: 0.8153 - val_accuracy: 0.8026\n",
      "Epoch 35/40\n",
      "435/435 [==============================] - 7s 17ms/step - loss: 0.2847 - accuracy: 0.8957 - val_loss: 0.7899 - val_accuracy: 0.8124\n",
      "Epoch 36/40\n",
      "435/435 [==============================] - 8s 18ms/step - loss: 0.2896 - accuracy: 0.8958 - val_loss: 0.8125 - val_accuracy: 0.8012\n",
      "Epoch 37/40\n",
      "435/435 [==============================] - 7s 16ms/step - loss: 0.2700 - accuracy: 0.9025 - val_loss: 0.8250 - val_accuracy: 0.8047\n",
      "Epoch 38/40\n",
      "435/435 [==============================] - 7s 17ms/step - loss: 0.2668 - accuracy: 0.9030 - val_loss: 0.8570 - val_accuracy: 0.8081\n",
      "Epoch 39/40\n",
      "435/435 [==============================] - 7s 16ms/step - loss: 0.2624 - accuracy: 0.9067 - val_loss: 0.8610 - val_accuracy: 0.8018\n",
      "Epoch 40/40\n",
      "435/435 [==============================] - 7s 17ms/step - loss: 0.2555 - accuracy: 0.9071 - val_loss: 0.9015 - val_accuracy: 0.8018\n"
     ]
    }
   ],
   "source": [
    "history = model.fit(\n",
    "    X_train, y_train,\n",
    "    epochs=40,\n",
    "    batch_size=32,\n",
    "    validation_data=(X_test, y_test)\n",
    ")"
   ]
  },
  {
   "cell_type": "code",
   "execution_count": 38,
   "metadata": {
    "id": "f96e4235-2340-408e-992a-32fad908d597"
   },
   "outputs": [],
   "source": [
    "from ibm_watson_machine_learning import APIClient\n",
    "\n",
    "wml_credentials = {\n",
    "    \"url\": \"https://us-south.ml.cloud.ibm.com\",\n",
    "    \"apikey\": \"pysBFXCh_vbaxZtyGCppB_EkWNL3e95M0x0mLBPHZk2D\"\n",
    "}\n",
    "\n",
    "client = APIClient(wml_credentials)"
   ]
  },
  {
   "cell_type": "code",
   "execution_count": 39,
   "metadata": {
    "id": "69c9eea7-4985-4fdd-9a7b-ee5783565341"
   },
   "outputs": [
    {
     "data": {
      "text/plain": [
       "'SUCCESS'"
      ]
     },
     "execution_count": 39,
     "metadata": {},
     "output_type": "execute_result"
    }
   ],
   "source": [
    "space_id = \"0d576aa9-fd73-4776-95f6-09aa266318ad\"\n",
    "client.set.default_space(space_id)"
   ]
  },
  {
   "cell_type": "code",
   "execution_count": 40,
   "metadata": {
    "id": "6bd1cc38-7573-4484-b5d2-ac96d7aa1f9c"
   },
   "outputs": [
    {
     "name": "stdout",
     "output_type": "stream",
     "text": [
      "INFO:tensorflow:Assets written to: model-2.hd5/assets\n"
     ]
    },
    {
     "name": "stderr",
     "output_type": "stream",
     "text": [
      "INFO:tensorflow:Assets written to: model-2.hd5/assets\n"
     ]
    }
   ],
   "source": [
    "model.save('model-2.hd5')"
   ]
  },
  {
   "cell_type": "code",
   "execution_count": 41,
   "metadata": {
    "id": "0bd0daad-a1e1-4374-8507-8840551443f6"
   },
   "outputs": [
    {
     "name": "stdout",
     "output_type": "stream",
     "text": [
      "Model uploaded. Model ID: 7e6db8a6-5d8a-4c2f-ba29-8467270c9fac\n"
     ]
    }
   ],
   "source": [
    "metadata = {\n",
    "    client.repository.ModelMetaNames.NAME: \"Handwriting Recognition Model_2\",\n",
    "    client.repository.ModelMetaNames.TYPE: \"tensorflow_2.14\", \n",
    "    client.repository.ModelMetaNames.SOFTWARE_SPEC_UID: client.software_specifications.get_uid_by_name(\"tensorflow_rt24.1-py3.11\")\n",
    "}\n",
    "\n",
    "model_details = client.repository.store_model(model='model-2.hd5', meta_props=metadata)\n",
    "print(\"Model uploaded. Model ID:\", model_details[\"metadata\"][\"id\"])"
   ]
  },
  {
   "cell_type": "code",
   "execution_count": 42,
   "metadata": {
    "id": "601eb96b-5668-4135-a825-53b0cd5cf5a4"
   },
   "outputs": [
    {
     "name": "stdout",
     "output_type": "stream",
     "text": [
      "\n",
      "\n",
      "#######################################################################################\n",
      "\n",
      "Synchronous deployment creation for uid: '7e6db8a6-5d8a-4c2f-ba29-8467270c9fac' started\n",
      "\n",
      "#######################################################################################\n",
      "\n",
      "\n",
      "initializing\n",
      "Note: online_url and serving_urls are deprecated and will be removed in a future release. Use inference instead.\n",
      "...\n",
      "ready\n",
      "\n",
      "\n",
      "------------------------------------------------------------------------------------------------\n",
      "Successfully finished deployment creation, deployment_uid='4fb0eee0-a908-4057-a1d8-a022dbbe1df4'\n",
      "------------------------------------------------------------------------------------------------\n",
      "\n",
      "\n",
      "Deployment created. Deployment ID: 4fb0eee0-a908-4057-a1d8-a022dbbe1df4\n"
     ]
    }
   ],
   "source": [
    "deployment_metadata = {\n",
    "    client.deployments.ConfigurationMetaNames.NAME: \"Handwriting Recognition Deployment_2\",\n",
    "    client.deployments.ConfigurationMetaNames.ONLINE: {}\n",
    "}\n",
    "\n",
    "deployment_details = client.deployments.create(\n",
    "    artifact_uid=model_details[\"metadata\"][\"id\"], \n",
    "    meta_props=deployment_metadata\n",
    ")\n",
    "\n",
    "print(\"Deployment created. Deployment ID:\", deployment_details[\"metadata\"][\"id\"])"
   ]
  },
  {
   "cell_type": "code",
   "execution_count": null,
   "metadata": {
    "id": "161fdafd-1adb-4b42-8bd8-0fcd346e9a9b"
   },
   "outputs": [],
   "source": []
  }
 ],
 "metadata": {
  "kernelspec": {
   "display_name": "Python 3 (ipykernel)",
   "language": "python",
   "name": "python3"
  },
  "language_info": {
   "codemirror_mode": {
    "name": "ipython",
    "version": 3
   },
   "file_extension": ".py",
   "mimetype": "text/x-python",
   "name": "python",
   "nbconvert_exporter": "python",
   "pygments_lexer": "ipython3",
   "version": "3.12.4"
  }
 },
 "nbformat": 4,
 "nbformat_minor": 4
}
